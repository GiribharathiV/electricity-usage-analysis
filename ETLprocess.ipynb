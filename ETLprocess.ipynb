{
 "cells": [
  {
   "cell_type": "code",
   "execution_count": 25,
   "id": "323fcf1e-0d6d-4e91-8557-cef984681f08",
   "metadata": {},
   "outputs": [],
   "source": [
    "import logging \n",
    "# Set up basic logging \n",
    "logging.basicConfig( \n",
    "\n",
    "filename='etl_log.txt', \n",
    "level=logging.INFO, \n",
    "format='%(asctime)s - %(levelname)s - %(message)s' \n",
    ") \n",
    "import pandas as pd \n",
    "import numpy as np \n",
    "import mysql.connector \n",
    "import datetime "
   ]
  },
  {
   "cell_type": "code",
   "execution_count": 26,
   "id": "0a625187-45d9-452b-b04a-0f8c263dbd8c",
   "metadata": {},
   "outputs": [
    {
     "name": "stdout",
     "output_type": "stream",
     "text": [
      "Raw data loaded:\n",
      "   EMPLOYEE_ID FIRST_NAME  LAST_NAME     EMAIL  PHONE_NUMBER  HIRE_DATE  \\\n",
      "0          198     Donald   OConnell  DOCONNEL  650.507.9833  21-Jun-07   \n",
      "1          199    Douglas      Grant    DGRANT  650.507.9844  13-Jan-08   \n",
      "2          200   Jennifer     Whalen   JWHALEN  515.123.4444  17-Sep-03   \n",
      "3          201    Michael  Hartstein  MHARTSTE  515.123.5555  17-Feb-04   \n",
      "4          202        Pat        Fay      PFAY  603.123.6666  17-Aug-05   \n",
      "\n",
      "     JOB_ID  SALARY  \n",
      "0  SH_CLERK    2600  \n",
      "1  SH_CLERK    2600  \n",
      "2   AD_ASST    4400  \n",
      "3    MK_MAN   13000  \n",
      "4    MK_REP    6000  \n",
      "['EMPLOYEE_ID', 'FIRST_NAME', 'LAST_NAME', 'EMAIL', 'PHONE_NUMBER', 'HIRE_DATE', 'JOB_ID', 'SALARY']\n"
     ]
    }
   ],
   "source": [
    "csv_file_path = 'employees1.csv' \n",
    "df = pd.read_csv(csv_file_path) \n",
    "print(\"Raw data loaded:\") \n",
    "print(df.head()) \n",
    "print(df.columns.tolist()) \n",
    "logging.info(\"CSV loaded successfully.\")"
   ]
  },
  {
   "cell_type": "code",
   "execution_count": 27,
   "id": "95c47f41-fe74-4f24-ab7b-14355109116d",
   "metadata": {},
   "outputs": [],
   "source": [
    "df.fillna({ \n",
    "'EMAIL': 'not_provided@example.com', \n",
    "'PHONE_NUMBER': '0000000000',\n",
    "'HIRE_DATE': '01-Jan-00', \n",
    "'SALARY': 0 \n",
    "}, inplace=True)"
   ]
  },
  {
   "cell_type": "code",
   "execution_count": 28,
   "id": "9d4d6c93-3bb6-4d27-9d2b-d14e3f7d7387",
   "metadata": {},
   "outputs": [],
   "source": [
    "df.columns = [col.strip().lower().replace(' ', '_') for col in df.columns]"
   ]
  },
  {
   "cell_type": "code",
   "execution_count": 29,
   "id": "035c101a-58a4-4447-969b-c6f69b2aaf1e",
   "metadata": {},
   "outputs": [
    {
     "name": "stdout",
     "output_type": "stream",
     "text": [
      "['employee_id', 'first_name', 'last_name', 'email', 'phone_number', 'hire_date', 'job_id', 'salary']\n"
     ]
    }
   ],
   "source": [
    "\n",
    "print(df.columns.tolist())"
   ]
  },
  {
   "cell_type": "code",
   "execution_count": 30,
   "id": "506dade8-f622-4e58-b95c-718fa26ca866",
   "metadata": {},
   "outputs": [],
   "source": [
    "df['hire_date'] = pd.to_datetime(df['hire_date'], format='%d-%b-%y', \n",
    "errors='coerce') "
   ]
  },
  {
   "cell_type": "code",
   "execution_count": 31,
   "id": "00f7bbea-4de6-4223-8eb8-e96b39f4e58c",
   "metadata": {},
   "outputs": [],
   "source": [
    "# Replace invalid dates with a default \n",
    "df['hire_date'] = df['hire_date'].fillna(pd.to_datetime('2000-01-01')) \n",
    "# Replace non-numeric salaries with 0 \n",
    "df['salary'] = pd.to_numeric(df['salary'], errors='coerce').fillna(0).astype(int) "
   ]
  },
  {
   "cell_type": "code",
   "execution_count": 32,
   "id": "37a821d3-a3c0-4b2e-ae12-7a755d61f715",
   "metadata": {},
   "outputs": [],
   "source": [
    "logging.info(\"Data cleaning completed.\") "
   ]
  },
  {
   "cell_type": "code",
   "execution_count": 33,
   "id": "8ca20640-fd91-4393-bf77-66a7988756ba",
   "metadata": {},
   "outputs": [],
   "source": [
    "mydb = mysql.connector.connect( \n",
    "    host=\"localhost\", \n",
    "    user=\"root\", \n",
    "    password=\"Giri#2004\", \n",
    "    database=\"employee_1\"   \n",
    ") "
   ]
  },
  {
   "cell_type": "code",
   "execution_count": 34,
   "id": "91d62d36-2a55-4539-9ead-59cebc9b551d",
   "metadata": {},
   "outputs": [],
   "source": [
    "cursor = mydb.cursor() "
   ]
  },
  {
   "cell_type": "code",
   "execution_count": 35,
   "id": "ac8a0cd1-0296-463a-91d1-db38d6ebfab6",
   "metadata": {},
   "outputs": [],
   "source": [
    "cursor.execute(\"\"\" \n",
    "    CREATE TABLE IF NOT EXISTS salary_2 ( \n",
    "        empid INT, \n",
    "        firstname VARCHAR(50), \n",
    "        lastname VARCHAR(50), \n",
    "        email VARCHAR(100), \n",
    "        phone VARCHAR(20), \n",
    "        hire_date DATE, \n",
    "        job_id VARCHAR(20), \n",
    "        salary INT \n",
    "    ) \n",
    "\"\"\") "
   ]
  },
  {
   "cell_type": "code",
   "execution_count": 36,
   "id": "3f351130-8918-4d9d-a56c-e179f28ef40e",
   "metadata": {},
   "outputs": [],
   "source": [
    "\n",
    "# Suppose 'df' is your DataFrame\n",
    "for index, row in df.iterrows():\n",
    "    sql = \"\"\" \n",
    "        INSERT INTO salary_2 (empid, firstname, lastname, email, phone, \n",
    "        hire_date, job_id, salary) \n",
    "        VALUES (%s, %s, %s, %s, %s, %s, %s, %s) \n",
    "        ON DUPLICATE KEY UPDATE \n",
    "            firstname=VALUES(firstname), \n",
    "            lastname=VALUES(lastname), \n",
    "            email=VALUES(email), \n",
    "            phone=VALUES(phone), \n",
    "            hire_date=VALUES(hire_date), \n",
    "            job_id=VALUES(job_id), \n",
    "            salary=VALUES(salary) \n",
    "    \"\"\" \n",
    "    values = (\n",
    "        int(row['employee_id']),\n",
    "        row['first_name'],\n",
    "        row['last_name'],\n",
    "        row['email'],\n",
    "        row['phone_number'],\n",
    "        row['hire_date'].date() if hasattr(row['hire_date'], 'date') else row['hire_date'],\n",
    "        row['job_id'],\n",
    "        int(row['salary'])\n",
    "    )\n",
    "    cursor.execute(sql, values)\n"
   ]
  },
  {
   "cell_type": "code",
   "execution_count": 37,
   "id": "db407b3a-bfe4-4f9e-8bb5-f7337d1a8c58",
   "metadata": {},
   "outputs": [],
   "source": [
    "mydb.commit() "
   ]
  },
  {
   "cell_type": "code",
   "execution_count": 38,
   "id": "e1dab9a8-2c37-4ad7-a736-943fb244bd7a",
   "metadata": {},
   "outputs": [
    {
     "name": "stdout",
     "output_type": "stream",
     "text": [
      "    empid firstname    lastname     email         phone   hire_date    job_id  \\\n",
      "0     198    Donald    OConnell  DOCONNEL  650.507.9833  2007-06-21  SH_CLERK   \n",
      "1     199   Douglas       Grant    DGRANT  650.507.9844  2008-01-13  SH_CLERK   \n",
      "2     200  Jennifer      Whalen   JWHALEN  515.123.4444  2003-09-17   AD_ASST   \n",
      "3     201   Michael   Hartstein  MHARTSTE  515.123.5555  2004-02-17    MK_MAN   \n",
      "4     202       Pat         Fay      PFAY  603.123.6666  2005-08-17    MK_REP   \n",
      "..    ...       ...         ...       ...           ...         ...       ...   \n",
      "95    136     Hazel  Philtanker  HPHILTAN  650.127.1634  2008-02-06  ST_CLERK   \n",
      "96    137    Renske      Ladwig   RLADWIG  650.121.1234  2003-07-14  ST_CLERK   \n",
      "97    138   Stephen      Stiles   SSTILES  650.121.2034  2005-10-26  ST_CLERK   \n",
      "98    139      John         Seo      JSEO  650.121.2019  2006-02-12  ST_CLERK   \n",
      "99    140    Joshua       Patel    JPATEL  650.121.1834  2006-04-06  ST_CLERK   \n",
      "\n",
      "    salary  \n",
      "0     2600  \n",
      "1     2600  \n",
      "2     4400  \n",
      "3    13000  \n",
      "4     6000  \n",
      "..     ...  \n",
      "95    2200  \n",
      "96    3600  \n",
      "97    3200  \n",
      "98    2700  \n",
      "99    2500  \n",
      "\n",
      "[100 rows x 8 columns]\n"
     ]
    },
    {
     "name": "stderr",
     "output_type": "stream",
     "text": [
      "C:\\Users\\ADMIN\\AppData\\Local\\Temp\\ipykernel_27832\\308015245.py:1: UserWarning: pandas only supports SQLAlchemy connectable (engine/connection) or database string URI or sqlite3 DBAPI2 connection. Other DBAPI2 objects are not tested. Please consider using SQLAlchemy.\n",
      "  df = pd.read_sql(\"SELECT * FROM salary_2\", mydb)\n"
     ]
    }
   ],
   "source": [
    "df = pd.read_sql(\"SELECT * FROM salary_2\", mydb)\n",
    "print(df)"
   ]
  },
  {
   "cell_type": "code",
   "execution_count": 39,
   "id": "430cd62f-02ca-4d52-9fd4-05b3dd471c26",
   "metadata": {},
   "outputs": [
    {
     "name": "stdout",
     "output_type": "stream",
     "text": [
      "ETL process completed successfully.\n"
     ]
    }
   ],
   "source": [
    "cursor.close() \n",
    "mydb.close() \n",
    "logging.error(\"Something went wrong\", exc_info=True) \n",
    "print(\"ETL process completed successfully.\")"
   ]
  },
  {
   "cell_type": "code",
   "execution_count": 40,
   "id": "a9698ba9-e6d5-47be-ad19-4edaabe8fac0",
   "metadata": {},
   "outputs": [
    {
     "name": "stdout",
     "output_type": "stream",
     "text": [
      "C:\\Users\\ADMIN\n"
     ]
    }
   ],
   "source": [
    "import os \n",
    "print(os.getcwd())"
   ]
  },
  {
   "cell_type": "code",
   "execution_count": 41,
   "id": "5cadcfd6-2b9e-411d-8017-40e7c7632f95",
   "metadata": {},
   "outputs": [
    {
     "name": "stderr",
     "output_type": "stream",
     "text": [
      "[NbConvertApp] Converting notebook ETLprocess.ipynb to script\n",
      "[NbConvertApp] Writing 3015 bytes to ETLprocess.py\n"
     ]
    }
   ],
   "source": [
    "!jupyter nbconvert --to script ETLprocess.ipynb"
   ]
  },
  {
   "cell_type": "code",
   "execution_count": null,
   "id": "af222abb-607b-4bb9-88b5-a2565afb32b3",
   "metadata": {},
   "outputs": [],
   "source": []
  }
 ],
 "metadata": {
  "kernelspec": {
   "display_name": "Python 3 (ipykernel)",
   "language": "python",
   "name": "python3"
  },
  "language_info": {
   "codemirror_mode": {
    "name": "ipython",
    "version": 3
   },
   "file_extension": ".py",
   "mimetype": "text/x-python",
   "name": "python",
   "nbconvert_exporter": "python",
   "pygments_lexer": "ipython3",
   "version": "3.12.3"
  }
 },
 "nbformat": 4,
 "nbformat_minor": 5
}
