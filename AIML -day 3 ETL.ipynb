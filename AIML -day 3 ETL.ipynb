{
 "cells": [
  {
   "cell_type": "code",
   "execution_count": 76,
   "id": "0d89e8eb-bf73-492b-bf01-da8af2c3560d",
   "metadata": {},
   "outputs": [],
   "source": [
    "import mysql.connector\n",
    "import pandas as pd"
   ]
  },
  {
   "cell_type": "code",
   "execution_count": 77,
   "id": "f43e075d-8de6-4bd4-8542-0b1fda89eaa4",
   "metadata": {},
   "outputs": [],
   "source": [
    "conn = mysql.connector.connect(\n",
    "    host=\"localhost\",          \n",
    "    user=\"root\",\n",
    "    password=\"Giri#2004\",\n",
    "    database=\"employee\"   \n",
    ")"
   ]
  },
  {
   "cell_type": "code",
   "execution_count": 78,
   "id": "d7c0c38e-533d-49a5-b1d1-1527f1d4baf2",
   "metadata": {},
   "outputs": [
    {
     "name": "stdout",
     "output_type": "stream",
     "text": [
      "Connected: True\n"
     ]
    }
   ],
   "source": [
    "print(\"Connected:\", conn.is_connected())"
   ]
  },
  {
   "cell_type": "code",
   "execution_count": 79,
   "id": "cd2b2c58-4a10-4201-aaa3-a68ebd8327e0",
   "metadata": {},
   "outputs": [],
   "source": [
    "cursor = conn.cursor()"
   ]
  },
  {
   "cell_type": "code",
   "execution_count": 80,
   "id": "514d6f91-4a95-450e-9f21-d7be1e5312f6",
   "metadata": {},
   "outputs": [],
   "source": [
    "sql = \"\"\"\n",
    "CREATE TABLE salary (\n",
    "    empid INT,\n",
    "    firstname VARCHAR(100),\n",
    "    lastname VARCHAR(100),\n",
    "    email VARCHAR(50),\n",
    "    phone VARCHAR(15),\n",
    "    hire_date DATE,\n",
    "    job_id VARCHAR(15),\n",
    "    salary INT\n",
    ")\n",
    "\"\"\""
   ]
  },
  {
   "cell_type": "code",
   "execution_count": 81,
   "id": "a2563add-085b-43ac-9f6c-6a729d241e8e",
   "metadata": {},
   "outputs": [],
   "source": [
    "import csv \n",
    "import datetime \n",
    "filename=\"employees1.csv\" "
   ]
  },
  {
   "cell_type": "code",
   "execution_count": 82,
   "id": "9c2d2aed-6f7f-4dce-af06-98b6ec1cb321",
   "metadata": {
    "scrolled": true
   },
   "outputs": [
    {
     "name": "stdout",
     "output_type": "stream",
     "text": [
      "['198', 'Donald', 'OConnell', 'DOCONNEL', '650.507.9833', '21-Jun-07', 'SH_CLERK', '2600']\n",
      "['199', 'Douglas', 'Grant', 'DGRANT', '650.507.9844', '13-Jan-08', 'SH_CLERK', '2600']\n",
      "['200', 'Jennifer', 'Whalen', 'JWHALEN', '515.123.4444', '17-Sep-03', 'AD_ASST', '4400']\n",
      "['201', 'Michael', 'Hartstein', 'MHARTSTE', '515.123.5555', '17-Feb-04', 'MK_MAN', '13000']\n",
      "['202', 'Pat', 'Fay', 'PFAY', '603.123.6666', '17-Aug-05', 'MK_REP', '6000']\n",
      "['203', 'Susan', 'Mavris', 'SMAVRIS', '515.123.7777', '07-Jun-02', 'HR_REP', '6500']\n",
      "['204', 'Hermann', 'Baer', 'HBAER', '515.123.8888', '07-Jun-02', 'PR_REP', '10000']\n",
      "['205', 'Shelley', 'Higgins', 'SHIGGINS', '515.123.8080', '07-Jun-02', 'AC_MGR', '12008']\n",
      "['206', 'William', 'Gietz', 'WGIETZ', '515.123.8181', '07-Jun-02', 'AC_ACCOUNT', '8300']\n",
      "['100', 'Steven', 'King', 'SKING', '515.123.4567', '17-Jun-03', 'AD_PRES', '24000']\n",
      "['101', 'Neena', 'Kochhar', 'NKOCHHAR', '515.123.4568', '21-Sep-05', 'AD_VP', '17000']\n",
      "['102', 'Lex', 'De Haan', 'LDEHAAN', '515.123.4569', '13-Jan-01', 'AD_VP', '17000']\n",
      "['103', 'Alexander', 'Hunold', 'AHUNOLD', '590.423.4567', '03-Jan-06', 'IT_PROG', '9000']\n",
      "['104', 'Bruce', 'Ernst', 'BERNST', '590.423.4568', '21-May-07', 'IT_PROG', '6000']\n",
      "['105', 'David', 'Austin', 'DAUSTIN', '590.423.4569', '25-Jun-05', 'IT_PROG', '4800']\n",
      "['106', 'Valli', 'Pataballa', 'VPATABAL', '590.423.4560', '05-Feb-06', 'IT_PROG', '4800']\n",
      "['107', 'Diana', 'Lorentz', 'DLORENTZ', '590.423.5567', '07-Feb-07', 'IT_PROG', '4200']\n",
      "['108', 'Nancy', 'Greenberg', 'NGREENBE', '515.124.4569', '17-Aug-02', 'FI_MGR', '12008']\n",
      "['109', 'Daniel', 'Faviet', 'DFAVIET', '515.124.4169', '16-Aug-02', 'FI_ACCOUNT', '9000']\n",
      "['110', 'John', 'Chen', 'JCHEN', '515.124.4269', '28-Sep-05', 'FI_ACCOUNT', '8200']\n",
      "['111', 'Ismael', 'Sciarra', 'ISCIARRA', '515.124.4369', '30-Sep-05', 'FI_ACCOUNT', '7700']\n",
      "['112', 'Jose Manuel', 'Urman', 'JMURMAN', '515.124.4469', '07-Mar-06', 'FI_ACCOUNT', '7800']\n",
      "['113', 'Luis', 'Popp', 'LPOPP', '515.124.4567', '07-Dec-07', 'FI_ACCOUNT', '6900']\n",
      "['114', 'Den', 'Raphaely', 'DRAPHEAL', '515.127.4561', '07-Dec-02', 'PU_MAN', '11000']\n",
      "['115', 'Alexander', 'Khoo', 'AKHOO', '515.127.4562', '18-May-03', 'PU_CLERK', '3100']\n",
      "['116', 'Shelli', 'Baida', 'SBAIDA', '515.127.4563', '24-Dec-05', 'PU_CLERK', '2900']\n",
      "['117', 'Sigal', 'Tobias', 'STOBIAS', '515.127.4564', '24-Jul-05', 'PU_CLERK', '2800']\n",
      "['118', 'Guy', 'Himuro', 'GHIMURO', '515.127.4565', '15-Nov-06', 'PU_CLERK', '2600']\n",
      "['119', 'Karen', 'Colmenares', 'KCOLMENA', '515.127.4566', '10-Aug-07', 'PU_CLERK', '2500']\n",
      "['120', 'Matthew', 'Weiss', 'MWEISS', '650.123.1234', '18-Jul-04', 'ST_MAN', '8000']\n",
      "['121', 'Adam', 'Fripp', 'AFRIPP', '650.123.2234', '10-Apr-05', 'ST_MAN', '8200']\n",
      "['122', 'Payam', 'Kaufling', 'PKAUFLIN', '650.123.3234', '01-May-03', 'ST_MAN', '7900']\n",
      "['123', 'Shanta', 'Vollman', 'SVOLLMAN', '650.123.4234', '10-Oct-05', 'ST_MAN', '6500']\n",
      "['124', 'Kevin', 'Mourgos', 'KMOURGOS', '650.123.5234', '16-Nov-07', 'ST_MAN', '5800']\n",
      "['125', 'Julia', 'Nayer', 'JNAYER', '650.124.1214', '16-Jul-05', 'ST_CLERK', '3200']\n",
      "['126', 'Irene', 'Mikkilineni', 'IMIKKILI', '650.124.1224', '28-Sep-06', 'ST_CLERK', '2700']\n",
      "['127', 'James', 'Landry', 'JLANDRY', '650.124.1334', '14-Jan-07', 'ST_CLERK', '2400']\n",
      "['128', 'Steven', 'Markle', 'SMARKLE', '650.124.1434', '08-Mar-08', 'ST_CLERK', '2200']\n",
      "['129', 'Laura', 'Bissot', 'LBISSOT', '650.124.5234', '20-Aug-05', 'ST_CLERK', '3300']\n",
      "['130', 'Mozhe', 'Atkinson', 'MATKINSO', '650.124.6234', '30-Oct-05', 'ST_CLERK', '2800']\n",
      "['131', 'James', 'Marlow', 'JAMRLOW', '650.124.7234', '16-Feb-05', 'ST_CLERK', '2500']\n",
      "['132', 'TJ', 'Olson', 'TJOLSON', '650.124.8234', '10-Apr-07', 'ST_CLERK', '2100']\n",
      "['133', 'Jason', 'Mallin', 'JMALLIN', '650.127.1934', '14-Jun-04', 'ST_CLERK', '3300']\n",
      "['134', 'Michael', 'Rogers', 'MROGERS', '650.127.1834', '26-Aug-06', 'ST_CLERK', '2900']\n",
      "['135', 'Ki', 'Gee', 'KGEE', '650.127.1734', '12-Dec-07', 'ST_CLERK', '2400']\n",
      "['136', 'Hazel', 'Philtanker', 'HPHILTAN', '650.127.1634', '06-Feb-08', 'ST_CLERK', '2200']\n",
      "['137', 'Renske', 'Ladwig', 'RLADWIG', '650.121.1234', '14-Jul-03', 'ST_CLERK', '3600']\n",
      "['138', 'Stephen', 'Stiles', 'SSTILES', '650.121.2034', '26-Oct-05', 'ST_CLERK', '3200']\n",
      "['139', 'John', 'Seo', 'JSEO', '650.121.2019', '12-Feb-06', 'ST_CLERK', '2700']\n",
      "['140', 'Joshua', 'Patel', 'JPATEL', '650.121.1834', '06-Apr-06', 'ST_CLERK', '2500']\n"
     ]
    }
   ],
   "source": [
    "with open(filename, 'r') as csvfile:\n",
    "    csvreader = csv.reader(csvfile)\n",
    "    headers = next(csvreader)  # Skip the header row\n",
    "\n",
    "    for row in csvreader:\n",
    "        print(row)  # For debugging\n",
    "        empid = int(row[0])\n",
    "        firstname = row[1]\n",
    "        lastname = row[2]\n",
    "        email = row[3]\n",
    "        phone = row[4]\n",
    "\n",
    "        # Convert date string (e.g., \"17-JUN-03\") to date object\n",
    "        hire_date = datetime.datetime.strptime(row[5], '%d-%b-%y').date()\n",
    "\n",
    "        job_id = row[6]\n",
    "        salary = int(row[7])\n",
    "\n",
    "        sql = \"\"\"INSERT INTO salary\n",
    "        (empid, firstname, lastname, email, phone, hire_date, job_id, salary)\n",
    "        VALUES (%s, %s, %s, %s, %s, %s, %s, %s)\"\"\"\n",
    "        val = (empid, firstname, lastname, email, phone, hire_date, job_id, salary)\n",
    "\n",
    "        cursor.execute(sql, val)\n",
    "\n",
    "# Commit changes to the database\n",
    "conn.commit()\n"
   ]
  },
  {
   "cell_type": "code",
   "execution_count": 83,
   "id": "cb8724b2-e33b-42ef-ab89-9b1cbb12c54f",
   "metadata": {},
   "outputs": [
    {
     "name": "stdout",
     "output_type": "stream",
     "text": [
      "✅ Connected to DB: employee\n"
     ]
    }
   ],
   "source": [
    "cursor.execute(\"SELECT DATABASE()\")\n",
    "print(\"✅ Connected to DB:\", cursor.fetchone()[0])\n"
   ]
  },
  {
   "cell_type": "code",
   "execution_count": 84,
   "id": "8fe499c3-3afe-41f3-be3e-6e3570950759",
   "metadata": {},
   "outputs": [
    {
     "name": "stdout",
     "output_type": "stream",
     "text": [
      "     empid firstname    lastname     email         phone   hire_date  \\\n",
      "0      198    Donald    OConnell  DOCONNEL  650.507.9833  2007-06-21   \n",
      "1      199   Douglas       Grant    DGRANT  650.507.9844  2008-01-13   \n",
      "2      200  Jennifer      Whalen   JWHALEN  515.123.4444  2003-09-17   \n",
      "3      201   Michael   Hartstein  MHARTSTE  515.123.5555  2004-02-17   \n",
      "4      202       Pat         Fay      PFAY  603.123.6666  2005-08-17   \n",
      "..     ...       ...         ...       ...           ...         ...   \n",
      "195    136     Hazel  Philtanker  HPHILTAN  650.127.1634  2008-02-06   \n",
      "196    137    Renske      Ladwig   RLADWIG  650.121.1234  2003-07-14   \n",
      "197    138   Stephen      Stiles   SSTILES  650.121.2034  2005-10-26   \n",
      "198    139      John         Seo      JSEO  650.121.2019  2006-02-12   \n",
      "199    140    Joshua       Patel    JPATEL  650.121.1834  2006-04-06   \n",
      "\n",
      "       job_id  salary  \n",
      "0    SH_CLERK    2600  \n",
      "1    SH_CLERK    2600  \n",
      "2     AD_ASST    4400  \n",
      "3      MK_MAN   13000  \n",
      "4      MK_REP    6000  \n",
      "..        ...     ...  \n",
      "195  ST_CLERK    2200  \n",
      "196  ST_CLERK    3600  \n",
      "197  ST_CLERK    3200  \n",
      "198  ST_CLERK    2700  \n",
      "199  ST_CLERK    2500  \n",
      "\n",
      "[200 rows x 8 columns]\n"
     ]
    },
    {
     "name": "stderr",
     "output_type": "stream",
     "text": [
      "C:\\Users\\ADMIN\\AppData\\Local\\Temp\\ipykernel_19096\\3542656144.py:1: UserWarning: pandas only supports SQLAlchemy connectable (engine/connection) or database string URI or sqlite3 DBAPI2 connection. Other DBAPI2 objects are not tested. Please consider using SQLAlchemy.\n",
      "  df = pd.read_sql(\"SELECT * FROM salary\", conn)\n"
     ]
    }
   ],
   "source": [
    "df = pd.read_sql(\"SELECT * FROM salary\", conn)\n",
    "print(df)"
   ]
  },
  {
   "cell_type": "code",
   "execution_count": null,
   "id": "8932e915-390d-4112-ae37-318f2246244e",
   "metadata": {},
   "outputs": [],
   "source": []
  }
 ],
 "metadata": {
  "kernelspec": {
   "display_name": "Python 3 (ipykernel)",
   "language": "python",
   "name": "python3"
  },
  "language_info": {
   "codemirror_mode": {
    "name": "ipython",
    "version": 3
   },
   "file_extension": ".py",
   "mimetype": "text/x-python",
   "name": "python",
   "nbconvert_exporter": "python",
   "pygments_lexer": "ipython3",
   "version": "3.12.3"
  }
 },
 "nbformat": 4,
 "nbformat_minor": 5
}
