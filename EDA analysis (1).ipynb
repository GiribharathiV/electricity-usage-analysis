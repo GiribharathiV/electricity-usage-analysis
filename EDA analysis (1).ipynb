{
 "cells": [
  {
   "cell_type": "code",
   "execution_count": 1,
   "id": "b0ade10f-e699-4082-9a3a-e74d6bf7ffc8",
   "metadata": {},
   "outputs": [],
   "source": [
    "import numpy as np\n",
    "import pandas as pd\n",
    "import matplotlib.pyplot as plt\n",
    "import seaborn as sns"
   ]
  },
  {
   "cell_type": "code",
   "execution_count": 20,
   "id": "8a082ac6-4bef-46fc-a5bc-ff80d2b8e1fa",
   "metadata": {},
   "outputs": [],
   "source": [
    "employee_ids = [f\"EMP_{str(i).zfill(3)}\" for i in range(1, 31)]\n",
    "dates = pd.date_range(start=\"2025-07-01\", periods=30,freq=\"D\")"
   ]
  },
  {
   "cell_type": "code",
   "execution_count": 21,
   "id": "23ee91d9-9ffd-40b9-9112-24b5bcfa13c9",
   "metadata": {},
   "outputs": [
    {
     "data": {
      "text/plain": [
       "['EMP_001',\n",
       " 'EMP_002',\n",
       " 'EMP_003',\n",
       " 'EMP_004',\n",
       " 'EMP_005',\n",
       " 'EMP_006',\n",
       " 'EMP_007',\n",
       " 'EMP_008',\n",
       " 'EMP_009',\n",
       " 'EMP_010',\n",
       " 'EMP_011',\n",
       " 'EMP_012',\n",
       " 'EMP_013',\n",
       " 'EMP_014',\n",
       " 'EMP_015',\n",
       " 'EMP_016',\n",
       " 'EMP_017',\n",
       " 'EMP_018',\n",
       " 'EMP_019',\n",
       " 'EMP_020',\n",
       " 'EMP_021',\n",
       " 'EMP_022',\n",
       " 'EMP_023',\n",
       " 'EMP_024',\n",
       " 'EMP_025',\n",
       " 'EMP_026',\n",
       " 'EMP_027',\n",
       " 'EMP_028',\n",
       " 'EMP_029',\n",
       " 'EMP_030']"
      ]
     },
     "execution_count": 21,
     "metadata": {},
     "output_type": "execute_result"
    }
   ],
   "source": [
    "employee_ids"
   ]
  },
  {
   "cell_type": "code",
   "execution_count": 26,
   "id": "6002c9fe-a836-47de-bcdb-1aacab224a1f",
   "metadata": {},
   "outputs": [],
   "source": [
    "data ={ \n",
    "        \"Date\":np.tile(dates,len(employee_ids)),\n",
    "        \"Employee_ID\":np.repeat(employee_ids,len(dates)),\n",
    "        \"Working_Hours\":np.random.uniform(4,10,size=len(dates)*len(employee_ids)).round(2)\n",
    "}\n",
    "\n",
    "df = pd.DataFrame(data)"
   ]
  },
  {
   "cell_type": "code",
   "execution_count": 27,
   "id": "ae261607-7d4b-4f07-a7c2-0b4524d72901",
   "metadata": {},
   "outputs": [
    {
     "data": {
      "text/html": [
       "<div>\n",
       "<style scoped>\n",
       "    .dataframe tbody tr th:only-of-type {\n",
       "        vertical-align: middle;\n",
       "    }\n",
       "\n",
       "    .dataframe tbody tr th {\n",
       "        vertical-align: top;\n",
       "    }\n",
       "\n",
       "    .dataframe thead th {\n",
       "        text-align: right;\n",
       "    }\n",
       "</style>\n",
       "<table border=\"1\" class=\"dataframe\">\n",
       "  <thead>\n",
       "    <tr style=\"text-align: right;\">\n",
       "      <th></th>\n",
       "      <th>Date</th>\n",
       "      <th>Employee_ID</th>\n",
       "      <th>Working_Hours</th>\n",
       "    </tr>\n",
       "  </thead>\n",
       "  <tbody>\n",
       "    <tr>\n",
       "      <th>0</th>\n",
       "      <td>2025-07-01</td>\n",
       "      <td>EMP_001</td>\n",
       "      <td>7.70</td>\n",
       "    </tr>\n",
       "    <tr>\n",
       "      <th>1</th>\n",
       "      <td>2025-07-02</td>\n",
       "      <td>EMP_001</td>\n",
       "      <td>5.25</td>\n",
       "    </tr>\n",
       "    <tr>\n",
       "      <th>2</th>\n",
       "      <td>2025-07-03</td>\n",
       "      <td>EMP_001</td>\n",
       "      <td>4.34</td>\n",
       "    </tr>\n",
       "    <tr>\n",
       "      <th>3</th>\n",
       "      <td>2025-07-04</td>\n",
       "      <td>EMP_001</td>\n",
       "      <td>9.74</td>\n",
       "    </tr>\n",
       "    <tr>\n",
       "      <th>4</th>\n",
       "      <td>2025-07-05</td>\n",
       "      <td>EMP_001</td>\n",
       "      <td>7.42</td>\n",
       "    </tr>\n",
       "    <tr>\n",
       "      <th>...</th>\n",
       "      <td>...</td>\n",
       "      <td>...</td>\n",
       "      <td>...</td>\n",
       "    </tr>\n",
       "    <tr>\n",
       "      <th>895</th>\n",
       "      <td>2025-07-26</td>\n",
       "      <td>EMP_030</td>\n",
       "      <td>7.67</td>\n",
       "    </tr>\n",
       "    <tr>\n",
       "      <th>896</th>\n",
       "      <td>2025-07-27</td>\n",
       "      <td>EMP_030</td>\n",
       "      <td>5.17</td>\n",
       "    </tr>\n",
       "    <tr>\n",
       "      <th>897</th>\n",
       "      <td>2025-07-28</td>\n",
       "      <td>EMP_030</td>\n",
       "      <td>6.09</td>\n",
       "    </tr>\n",
       "    <tr>\n",
       "      <th>898</th>\n",
       "      <td>2025-07-29</td>\n",
       "      <td>EMP_030</td>\n",
       "      <td>8.20</td>\n",
       "    </tr>\n",
       "    <tr>\n",
       "      <th>899</th>\n",
       "      <td>2025-07-30</td>\n",
       "      <td>EMP_030</td>\n",
       "      <td>6.47</td>\n",
       "    </tr>\n",
       "  </tbody>\n",
       "</table>\n",
       "<p>900 rows × 3 columns</p>\n",
       "</div>"
      ],
      "text/plain": [
       "          Date Employee_ID  Working_Hours\n",
       "0   2025-07-01     EMP_001           7.70\n",
       "1   2025-07-02     EMP_001           5.25\n",
       "2   2025-07-03     EMP_001           4.34\n",
       "3   2025-07-04     EMP_001           9.74\n",
       "4   2025-07-05     EMP_001           7.42\n",
       "..         ...         ...            ...\n",
       "895 2025-07-26     EMP_030           7.67\n",
       "896 2025-07-27     EMP_030           5.17\n",
       "897 2025-07-28     EMP_030           6.09\n",
       "898 2025-07-29     EMP_030           8.20\n",
       "899 2025-07-30     EMP_030           6.47\n",
       "\n",
       "[900 rows x 3 columns]"
      ]
     },
     "execution_count": 27,
     "metadata": {},
     "output_type": "execute_result"
    }
   ],
   "source": [
    "df"
   ]
  },
  {
   "cell_type": "code",
   "execution_count": 28,
   "id": "7e13c3f5-6a2a-4a24-8939-0fb8d04a5b06",
   "metadata": {},
   "outputs": [],
   "source": [
    "df.to_csv(\"employee_working _hours.csv\",index=False)"
   ]
  },
  {
   "cell_type": "code",
   "execution_count": 29,
   "id": "cc1c328a-5c1a-4ed8-9a31-3a5e6f302d73",
   "metadata": {},
   "outputs": [],
   "source": [
    "df_csv = pd.read_csv(\"employee_working _hours.csv\")"
   ]
  },
  {
   "cell_type": "code",
   "execution_count": 30,
   "id": "8b7b0bbd-a251-41cc-bb16-7e443f8f4501",
   "metadata": {},
   "outputs": [
    {
     "name": "stdout",
     "output_type": "stream",
     "text": [
      "         Date Employee_ID  Working_Hours\n",
      "0  2025-07-01     EMP_001           7.70\n",
      "1  2025-07-02     EMP_001           5.25\n",
      "2  2025-07-03     EMP_001           4.34\n",
      "3  2025-07-04     EMP_001           9.74\n",
      "4  2025-07-05     EMP_001           7.42\n",
      "       Working_Hours\n",
      "count     900.000000\n",
      "mean        6.999567\n",
      "std         1.736998\n",
      "min         4.000000\n",
      "25%         5.457500\n",
      "50%         6.945000\n",
      "75%         8.470000\n",
      "max        10.000000\n",
      "30\n"
     ]
    }
   ],
   "source": [
    "print(df_csv.head())\n",
    "print(df_csv.describe())\n",
    "print(df_csv[\"Employee_ID\"].nunique())"
   ]
  },
  {
   "cell_type": "code",
   "execution_count": 31,
   "id": "f573d918-18df-483c-8c93-685568c21591",
   "metadata": {},
   "outputs": [
    {
     "data": {
      "text/plain": [
       "Date             0\n",
       "Employee_ID      0\n",
       "Working_Hours    0\n",
       "dtype: int64"
      ]
     },
     "execution_count": 31,
     "metadata": {},
     "output_type": "execute_result"
    }
   ],
   "source": [
    "df.isnull().sum()"
   ]
  },
  {
   "cell_type": "code",
   "execution_count": 32,
   "id": "58bc3953-0256-4ddc-abe5-24bac5631861",
   "metadata": {},
   "outputs": [
    {
     "name": "stdout",
     "output_type": "stream",
     "text": [
      "Date             datetime64[ns]\n",
      "Employee_ID              object\n",
      "Working_Hours           float64\n",
      "dtype: object\n"
     ]
    }
   ],
   "source": [
    "print(df.dtypes)"
   ]
  },
  {
   "cell_type": "code",
   "execution_count": 34,
   "id": "ee3f1367-16c4-4b97-b3ef-10d33b120b7a",
   "metadata": {},
   "outputs": [
    {
     "name": "stdout",
     "output_type": "stream",
     "text": [
      "Employee_ID\n",
      "EMP_003    230.61\n",
      "EMP_020    227.58\n",
      "EMP_015    226.78\n",
      "EMP_019    222.85\n",
      "EMP_005    219.54\n",
      "EMP_022    219.30\n",
      "EMP_025    218.93\n",
      "EMP_008    217.76\n",
      "EMP_021    216.84\n",
      "EMP_009    213.68\n",
      "EMP_014    211.19\n",
      "EMP_002    210.53\n",
      "EMP_013    209.96\n",
      "EMP_030    209.93\n",
      "EMP_023    209.58\n",
      "EMP_024    209.30\n",
      "EMP_012    209.19\n",
      "EMP_007    209.17\n",
      "EMP_006    208.46\n",
      "EMP_017    207.90\n",
      "EMP_028    205.67\n",
      "EMP_010    205.58\n",
      "EMP_029    203.69\n",
      "EMP_026    200.50\n",
      "EMP_016    199.66\n",
      "EMP_001    199.55\n",
      "EMP_018    197.74\n",
      "EMP_011    194.50\n",
      "EMP_004    192.74\n",
      "EMP_027    190.90\n",
      "Name: Working_Hours, dtype: float64\n"
     ]
    }
   ],
   "source": [
    "total_hours = df.groupby(\"Employee_ID\")[\"Working_Hours\"].sum().sort_values(ascending = False)\n",
    "print(total_hours )"
   ]
  },
  {
   "cell_type": "code",
   "execution_count": 35,
   "id": "0d05a555-9573-49d6-ba9d-fab9559dbfe4",
   "metadata": {},
   "outputs": [
    {
     "name": "stdout",
     "output_type": "stream",
     "text": [
      "          Date Employee_ID  Working_Hours  low_hour_flag  high_hour_flag\n",
      "2   2025-07-03     EMP_001           4.34           True           False\n",
      "3   2025-07-04     EMP_001           9.74          False            True\n",
      "13  2025-07-14     EMP_001           4.25           True           False\n",
      "16  2025-07-17     EMP_001           4.93           True           False\n",
      "18  2025-07-19     EMP_001           4.22           True           False\n"
     ]
    }
   ],
   "source": [
    "threshold_low = 5\n",
    "threshold_high = 9\n",
    "df_csv[\"low_hour_flag\"] = df_csv[\"Working_Hours\"] < threshold_low\n",
    "df_csv[\"high_hour_flag\"] = df_csv[\"Working_Hours\"] > threshold_high\n",
    "\n",
    "print(df_csv[df_csv[\"low_hour_flag\"] | df_csv[\"high_hour_flag\"]].head())"
   ]
  },
  {
   "cell_type": "code",
   "execution_count": 36,
   "id": "434fa6ed-0ef8-4695-95f9-5604aeb3962a",
   "metadata": {},
   "outputs": [
    {
     "data": {
      "image/png": "[encoded data removed]",
      "text/plain": [
       "<Figure size 1000x500 with 1 Axes>"
      ]
     },
     "metadata": {},
     "output_type": "display_data"
    }
   ],
   "source": [
    "top10 = total_hours.head(10)\n",
    "plt.figure(figsize=(10,5))\n",
    "sns.barplot(x=top10.index, y=top10.values)\n",
    "plt.xticks(rotation=45)\n",
    "plt.title(\"Top 10 Employee by Total working Hours\")\n",
    "plt.ylabel(\"Hours\")\n",
    "plt.tight_layout()\n",
    "plt.show()"
   ]
  },
  {
   "cell_type": "code",
   "execution_count": 44,
   "id": "c88095c2-be68-459b-b37d-193931bece23",
   "metadata": {},
   "outputs": [],
   "source": [
    "Grades = df.loc[(df[\"Employee_ID\"]==\"EMP_003\")]"
   ]
  },
  {
   "cell_type": "code",
   "execution_count": 45,
   "id": "a28e43b7-06ae-4673-85b9-fe0938869df2",
   "metadata": {},
   "outputs": [
    {
     "data": {
      "text/html": [
       "<div>\n",
       "<style scoped>\n",
       "    .dataframe tbody tr th:only-of-type {\n",
       "        vertical-align: middle;\n",
       "    }\n",
       "\n",
       "    .dataframe tbody tr th {\n",
       "        vertical-align: top;\n",
       "    }\n",
       "\n",
       "    .dataframe thead th {\n",
       "        text-align: right;\n",
       "    }\n",
       "</style>\n",
       "<table border=\"1\" class=\"dataframe\">\n",
       "  <thead>\n",
       "    <tr style=\"text-align: right;\">\n",
       "      <th></th>\n",
       "      <th>Date</th>\n",
       "      <th>Employee_ID</th>\n",
       "      <th>Working_Hours</th>\n",
       "    </tr>\n",
       "  </thead>\n",
       "  <tbody>\n",
       "    <tr>\n",
       "      <th>60</th>\n",
       "      <td>2025-07-01</td>\n",
       "      <td>EMP_003</td>\n",
       "      <td>8.19</td>\n",
       "    </tr>\n",
       "    <tr>\n",
       "      <th>61</th>\n",
       "      <td>2025-07-02</td>\n",
       "      <td>EMP_003</td>\n",
       "      <td>7.16</td>\n",
       "    </tr>\n",
       "    <tr>\n",
       "      <th>62</th>\n",
       "      <td>2025-07-03</td>\n",
       "      <td>EMP_003</td>\n",
       "      <td>9.95</td>\n",
       "    </tr>\n",
       "    <tr>\n",
       "      <th>63</th>\n",
       "      <td>2025-07-04</td>\n",
       "      <td>EMP_003</td>\n",
       "      <td>6.91</td>\n",
       "    </tr>\n",
       "    <tr>\n",
       "      <th>64</th>\n",
       "      <td>2025-07-05</td>\n",
       "      <td>EMP_003</td>\n",
       "      <td>7.32</td>\n",
       "    </tr>\n",
       "  </tbody>\n",
       "</table>\n",
       "</div>"
      ],
      "text/plain": [
       "         Date Employee_ID  Working_Hours\n",
       "60 2025-07-01     EMP_003           8.19\n",
       "61 2025-07-02     EMP_003           7.16\n",
       "62 2025-07-03     EMP_003           9.95\n",
       "63 2025-07-04     EMP_003           6.91\n",
       "64 2025-07-05     EMP_003           7.32"
      ]
     },
     "execution_count": 45,
     "metadata": {},
     "output_type": "execute_result"
    }
   ],
   "source": [
    "Grades.head()"
   ]
  },
  {
   "cell_type": "code",
   "execution_count": 42,
   "id": "d60e3bd7-c25d-4c62-ac65-6827cfe6128d",
   "metadata": {},
   "outputs": [],
   "source": [
    "import requests\n",
    "from bs4 import BeautifulSoup\n",
    "url = \"https://books.toscrape.com/\"\n",
    "response = requests.get(url)"
   ]
  },
  {
   "cell_type": "code",
   "execution_count": 43,
   "id": "66929f27-a8e8-4149-ac95-5ad84bb530f6",
   "metadata": {},
   "outputs": [
    {
     "name": "stdout",
     "output_type": "stream",
     "text": [
      "Title: A Light in the Attic | Price: £51.77\n",
      "Title: Tipping the Velvet | Price: £53.74\n",
      "Title: Soumission | Price: £50.10\n",
      "Title: Sharp Objects | Price: £47.82\n",
      "Title: Sapiens: A Brief History of Humankind | Price: £54.23\n",
      "Title: The Requiem Red | Price: £22.65\n",
      "Title: The Dirty Little Secrets of Getting Your Dream Job | Price: £33.34\n",
      "Title: The Coming Woman: A Novel Based on the Life of the Infamous Feminist, Victoria Woodhull | Price: £17.93\n",
      "Title: The Boys in the Boat: Nine Americans and Their Epic Quest for Gold at the 1936 Berlin Olympics | Price: £22.60\n",
      "Title: The Black Maria | Price: £52.15\n",
      "Title: Starving Hearts (Triangular Trade Trilogy, #1) | Price: £13.99\n",
      "Title: Shakespeare's Sonnets | Price: £20.66\n",
      "Title: Set Me Free | Price: £17.46\n",
      "Title: Scott Pilgrim's Precious Little Life (Scott Pilgrim #1) | Price: £52.29\n",
      "Title: Rip it Up and Start Again | Price: £35.02\n",
      "Title: Our Band Could Be Your Life: Scenes from the American Indie Underground, 1981-1991 | Price: £57.25\n",
      "Title: Olio | Price: £23.88\n",
      "Title: Mesaerion: The Best Science Fiction Stories 1800-1849 | Price: £37.59\n",
      "Title: Libertarianism for Beginners | Price: £51.33\n",
      "Title: It's Only the Himalayas | Price: £45.17\n"
     ]
    }
   ],
   "source": [
    "soup = BeautifulSoup(response.content, \"html.parser\")\n",
    "books = soup.find_all(\"article\", class_=\"product_pod\")\n",
    "for book in books:\n",
    "    title = book.h3.a[\"title\"]\n",
    "    price = book.find(\"p\", class_=\"price_color\").text\n",
    "    print(f\"Title: {title} | Price: {price}\")"
   ]
  },
  {
   "cell_type": "code",
   "execution_count": null,
   "id": "b586a14c-1aa1-480f-8b70-ce1191af7b85",
   "metadata": {},
   "outputs": [],
   "source": []
  },
  {
   "cell_type": "code",
   "execution_count": null,
   "id": "bc022b08-ca87-485e-bc36-c456f6383e2c",
   "metadata": {},
   "outputs": [],
   "source": []
  }
 ],
 "metadata": {
  "kernelspec": {
   "display_name": "Python 3 (ipykernel)",
   "language": "python",
   "name": "python3"
  },
  "language_info": {
   "codemirror_mode": {
    "name": "ipython",
    "version": 3
   },
   "file_extension": ".py",
   "mimetype": "text/x-python",
   "name": "python",
   "nbconvert_exporter": "python",
   "pygments_lexer": "ipython3",
   "version": "3.12.3"
  }
 },
 "nbformat": 4,
 "nbformat_minor": 5
}
